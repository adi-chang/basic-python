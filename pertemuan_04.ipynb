{
 "cells": [
  {
   "cell_type": "markdown",
   "metadata": {},
   "source": [
    "### Penggabungan Kondisi"
   ]
  },
  {
   "cell_type": "code",
   "execution_count": 5,
   "metadata": {},
   "outputs": [
    {
     "name": "stdin",
     "output_type": "stream",
     "text": [
      "Pukul berapa sekarang ?  20\n"
     ]
    },
    {
     "name": "stdout",
     "output_type": "stream",
     "text": [
      "Selamat Malam!\n"
     ]
    }
   ],
   "source": [
    "# and\n",
    "# input jam \n",
    "jam = int(input('Pukul berapa sekarang ? '))\n",
    "\n",
    "# pagi : 5 - 11\n",
    "# siang : 11 - 15\n",
    "# sore : 15 - 18\n",
    "# malam : 18 - 4 \n",
    "\n",
    "# kondisi\n",
    "if 5 <= jam <= 11:\n",
    "    print('Selamat Pagi!')\n",
    "elif 11 < jam <= 15:\n",
    "    print('Selamat Siang!')\n",
    "elif 15 < jam <= 18:\n",
    "    print('Selamat Sore!')\n",
    "else:\n",
    "    print('Selamat Malam!')"
   ]
  },
  {
   "cell_type": "code",
   "execution_count": 6,
   "metadata": {},
   "outputs": [
    {
     "name": "stdout",
     "output_type": "stream",
     "text": [
      "Halo\n"
     ]
    }
   ],
   "source": [
    "# shorthand and\n",
    "angka = 5\n",
    "if 4 < angka < 6:\n",
    "    print('Halo')\n",
    "else:\n",
    "    print('Else')"
   ]
  },
  {
   "cell_type": "code",
   "execution_count": 7,
   "metadata": {},
   "outputs": [
    {
     "name": "stdout",
     "output_type": "stream",
     "text": [
      "Betul\n"
     ]
    }
   ],
   "source": [
    "# or\n",
    "if 6 < 7 or 8 < 9:\n",
    "    print('Betul')"
   ]
  },
  {
   "cell_type": "code",
   "execution_count": 8,
   "metadata": {},
   "outputs": [
    {
     "name": "stdout",
     "output_type": "stream",
     "text": [
      "salah satunya betul\n"
     ]
    }
   ],
   "source": [
    "if 6 < 7 or 8 > 9:\n",
    "    print('salah satunya betul')"
   ]
  },
  {
   "cell_type": "code",
   "execution_count": 9,
   "metadata": {},
   "outputs": [
    {
     "name": "stdout",
     "output_type": "stream",
     "text": [
      "6 tidak lebih besar dari 9\n"
     ]
    }
   ],
   "source": [
    "# not\n",
    "num1 = 6\n",
    "num2 = 9\n",
    "result = num1 > num2\n",
    "if not result:\n",
    "    print('6 tidak lebih besar dari 9')"
   ]
  },
  {
   "cell_type": "code",
   "execution_count": 10,
   "metadata": {},
   "outputs": [
    {
     "name": "stdout",
     "output_type": "stream",
     "text": [
      "True\n"
     ]
    }
   ],
   "source": [
    "status = False\n",
    "print (not status)"
   ]
  },
  {
   "cell_type": "code",
   "execution_count": 11,
   "metadata": {},
   "outputs": [
    {
     "name": "stdout",
     "output_type": "stream",
     "text": [
      "C di dalam list\n"
     ]
    }
   ],
   "source": [
    "li = ['A', 'B', 'C']\n",
    "if 'C' not in li:\n",
    "    print('C not in list')\n",
    "else:\n",
    "    print('C di dalam list')"
   ]
  },
  {
   "cell_type": "code",
   "execution_count": 12,
   "metadata": {},
   "outputs": [
    {
     "name": "stdin",
     "output_type": "stream",
     "text": [
      "Masukkan Angka ?  11\n"
     ]
    },
    {
     "name": "stdout",
     "output_type": "stream",
     "text": [
      "11 tidak ada di dalam list\n"
     ]
    }
   ],
   "source": [
    "your_input = int(input('Masukkan Angka ? '))\n",
    "li = [1, 2, 3, 4, 5, 6, 7, 8, 9, 10]\n",
    "if your_input not in li:\n",
    "    print(your_input, 'tidak ada di dalam list')\n",
    "else:\n",
    "    print(your_input, 'ada di dalam list')"
   ]
  },
  {
   "cell_type": "code",
   "execution_count": 13,
   "metadata": {},
   "outputs": [
    {
     "name": "stdout",
     "output_type": "stream",
     "text": [
      "9 adalah int\n"
     ]
    }
   ],
   "source": [
    "# is \n",
    "angka = 9\n",
    "if type(angka) is int:\n",
    "    print(angka, 'adalah int')"
   ]
  },
  {
   "cell_type": "markdown",
   "metadata": {},
   "source": [
    "### random"
   ]
  },
  {
   "cell_type": "code",
   "execution_count": 19,
   "metadata": {},
   "outputs": [
    {
     "name": "stdout",
     "output_type": "stream",
     "text": [
      "8\n"
     ]
    }
   ],
   "source": [
    "from random import randint\n",
    "\n",
    "print(randint(1, 100))"
   ]
  },
  {
   "cell_type": "code",
   "execution_count": 48,
   "metadata": {},
   "outputs": [
    {
     "name": "stdout",
     "output_type": "stream",
     "text": [
      "97\n"
     ]
    }
   ],
   "source": [
    "from random import randrange\n",
    "\n",
    "print(randrange(1, 100, 2))"
   ]
  },
  {
   "cell_type": "markdown",
   "metadata": {},
   "source": [
    "### List"
   ]
  },
  {
   "cell_type": "code",
   "execution_count": 50,
   "metadata": {},
   "outputs": [
    {
     "name": "stdout",
     "output_type": "stream",
     "text": [
      "Bakso\n",
      "Soto\n",
      "['Bakso', 'Pizza', 'Hotdog']\n"
     ]
    }
   ],
   "source": [
    "list_satu = ['Bakso', 'Pizza', 'Hotdog', 'Bakmi', 'Soto']\n",
    "# memanggil salah satu valuenya \n",
    "print(list_satu[0])\n",
    "print(list_satu[-1])\n",
    "print(list_satu[0:3])"
   ]
  },
  {
   "cell_type": "code",
   "execution_count": 52,
   "metadata": {},
   "outputs": [
    {
     "name": "stdout",
     "output_type": "stream",
     "text": [
      "['Bakso', 'Pizza', 'Rendang', 'Bakmi', 'Soto']\n",
      "Rendang\n"
     ]
    }
   ],
   "source": [
    "# mengedit value\n",
    "list_satu[2] = 'Rendang'\n",
    "print(list_satu)\n",
    "print(list_satu[2])"
   ]
  },
  {
   "cell_type": "code",
   "execution_count": 54,
   "metadata": {},
   "outputs": [
    {
     "name": "stdout",
     "output_type": "stream",
     "text": [
      "['Bakso', 'Pizza', 'Rendang', 'Bakmi', 'Soto', 'Sanjai', 'Sanjai']\n",
      "['Bakso', 'Pizza', 'Rendang', 'Bakmi', 'Soto', 'Sanjai', 'Sanjai', 'Geprek']\n"
     ]
    }
   ],
   "source": [
    "# menambahkan nilai\n",
    "list_satu.append('Sanjai')\n",
    "print(list_satu)\n",
    "list_satu.append('Geprek')\n",
    "print(list_satu)"
   ]
  },
  {
   "cell_type": "code",
   "execution_count": 55,
   "metadata": {},
   "outputs": [
    {
     "name": "stdout",
     "output_type": "stream",
     "text": [
      "['Bakso', 'Pizza', 'Rendang', 'Bakmi', 'Soto', 'Sanjai', 'Sanjai', 'Geprek']\n",
      "['Bakso', 'Pizza', 'Rendang', 'Bakmi', 'Soto', 'Sanjai', 'Sanjai']\n",
      "['Bakso', 'Pizza', 'Rendang', 'Bakmi', 'Soto', 'Sanjai']\n"
     ]
    }
   ],
   "source": [
    "# menghapus nilai\n",
    "print(list_satu)\n",
    "del list_satu[7]\n",
    "print(list_satu)\n",
    "list_satu.remove('Sanjai')\n",
    "print(list_satu)"
   ]
  },
  {
   "cell_type": "code",
   "execution_count": 56,
   "metadata": {},
   "outputs": [
    {
     "name": "stdout",
     "output_type": "stream",
     "text": [
      "['Bakso', 'Pizza', 'Rendang', 'Bakmi', 'Soto']\n"
     ]
    }
   ],
   "source": [
    "list_satu.remove('Sanjai')\n",
    "print(list_satu)"
   ]
  },
  {
   "cell_type": "code",
   "execution_count": 59,
   "metadata": {},
   "outputs": [
    {
     "name": "stdout",
     "output_type": "stream",
     "text": [
      "['Bakso', 'Pizza', 'Rendang', 'Bakmi', 'Soto', 'satu', 'dua', 'tiga', 'Geprek', 'satu', 'dua', 'tiga', 'Geprek', 'satu', 'dua', 'tiga']\n",
      "['Bakso', 'Pizza', 'Rendang', 'Bakmi', 'Soto']\n"
     ]
    }
   ],
   "source": [
    "list_satu.append('Geprek')\n",
    "list_satu.append('satu')\n",
    "list_satu.append('dua')\n",
    "list_satu.append('tiga')\n",
    "print(list_satu)\n",
    "del list_satu[5:]\n",
    "print(list_satu)"
   ]
  },
  {
   "cell_type": "code",
   "execution_count": 60,
   "metadata": {},
   "outputs": [
    {
     "name": "stdout",
     "output_type": "stream",
     "text": [
      "saya suka: Bakso\n",
      "saya suka: Pizza\n",
      "saya suka: Rendang\n",
      "saya suka: Bakmi\n",
      "saya suka: Soto\n"
     ]
    }
   ],
   "source": [
    "# looping list\n",
    "for makanan in list_satu:\n",
    "    print('saya suka:', makanan)"
   ]
  },
  {
   "cell_type": "markdown",
   "metadata": {},
   "source": [
    "### Dictionary"
   ]
  },
  {
   "cell_type": "code",
   "execution_count": 61,
   "metadata": {},
   "outputs": [
    {
     "name": "stdout",
     "output_type": "stream",
     "text": [
      "{'Nama': 'Budiman', 'Umur': '20', 'Profesi': 'DevOps'}\n"
     ]
    }
   ],
   "source": [
    "bio = {'Nama': 'Budiman', 'Umur': '20', 'Profesi': 'DevOps'}\n",
    "print(bio)"
   ]
  },
  {
   "cell_type": "code",
   "execution_count": 62,
   "metadata": {},
   "outputs": [
    {
     "name": "stdout",
     "output_type": "stream",
     "text": [
      "Budiman\n",
      "20\n",
      "DevOps\n"
     ]
    }
   ],
   "source": [
    "print(bio['Nama'])\n",
    "print(bio['Umur'])\n",
    "print(bio['Profesi'])"
   ]
  },
  {
   "cell_type": "code",
   "execution_count": 63,
   "metadata": {},
   "outputs": [
    {
     "name": "stdout",
     "output_type": "stream",
     "text": [
      "Nama: Budiman\n",
      "Umur: 20\n",
      "Profesi: DevOps\n"
     ]
    }
   ],
   "source": [
    "# looping dictionary\n",
    "for key, value in bio.items():\n",
    "    print(key, value, sep=': ')"
   ]
  },
  {
   "cell_type": "code",
   "execution_count": 68,
   "metadata": {},
   "outputs": [
    {
     "name": "stdout",
     "output_type": "stream",
     "text": [
      "{1: {'Nama': 'Budiman', 'Umur': '20', 'Profesi': 'DevOps'}, 2: {'Nama': 'Abraham', 'Umur': '30', 'Profesi': 'UI/UX Designer'}, 3: {'Nama': 'Isaac', 'Umur': '40', 'Profesi': 'Front-End Dev'}}\n",
      "{'Nama': 'Budiman', 'Umur': '20', 'Profesi': 'DevOps'}\n",
      "{'Nama': 'Abraham', 'Umur': '30', 'Profesi': 'UI/UX Designer'}\n",
      "{'Nama': 'Isaac', 'Umur': '40', 'Profesi': 'Front-End Dev'}\n"
     ]
    }
   ],
   "source": [
    "# dictionary bercabang\n",
    "pelanggan = {\n",
    "    1: {\n",
    "        'Nama': 'Budiman', 'Umur': '20', 'Profesi': 'DevOps'\n",
    "    },\n",
    "    2: {\n",
    "        'Nama': 'Abraham', 'Umur': '30', 'Profesi': 'UI/UX Designer'\n",
    "    },\n",
    "    3: {\n",
    "        'Nama': 'Isaac', 'Umur': '40', 'Profesi': 'Front-End Dev'\n",
    "    }\n",
    "}\n",
    "print(pelanggan)\n",
    "print(pelanggan[1])\n",
    "print(pelanggan[2])\n",
    "print(pelanggan[3])"
   ]
  },
  {
   "cell_type": "code",
   "execution_count": 69,
   "metadata": {},
   "outputs": [
    {
     "name": "stdout",
     "output_type": "stream",
     "text": [
      "1: {'Nama': 'Budiman', 'Umur': '20', 'Profesi': 'DevOps'}\n",
      "2: {'Nama': 'Abraham', 'Umur': '30', 'Profesi': 'UI/UX Designer'}\n",
      "3: {'Nama': 'Isaac', 'Umur': '40', 'Profesi': 'Front-End Dev'}\n"
     ]
    }
   ],
   "source": [
    "# looping \n",
    "for key, value in pelanggan.items():\n",
    "    print(key, value, sep=': ')"
   ]
  },
  {
   "cell_type": "code",
   "execution_count": 74,
   "metadata": {},
   "outputs": [
    {
     "name": "stdout",
     "output_type": "stream",
     "text": [
      "Pelanggan ke- 1\n",
      "    Nama: Budiman\n",
      "    Umur: 20\n",
      "    Profesi: DevOps\n",
      "Pelanggan ke- 2\n",
      "    Nama: Abraham\n",
      "    Umur: 30\n",
      "    Profesi: UI/UX Designer\n",
      "Pelanggan ke- 3\n",
      "    Nama: Isaac\n",
      "    Umur: 40\n",
      "    Profesi: Front-End Dev\n"
     ]
    }
   ],
   "source": [
    "# looping \n",
    "for key, value in pelanggan.items():\n",
    "    print('Pelanggan ke-', key)\n",
    "    # looping\n",
    "    for key2, value2 in value.items():\n",
    "        print(f'{\" \" * 3} {key2}: {value2}')"
   ]
  },
  {
   "cell_type": "code",
   "execution_count": 75,
   "metadata": {},
   "outputs": [
    {
     "name": "stdout",
     "output_type": "stream",
     "text": [
      "Pelanggan ke- 1\n",
      "    Nama: Budiman\n",
      "    Umur: 20\n",
      "    Profesi: DevOps\n",
      "Pelanggan ke- 2\n",
      "    Nama: Abraham\n",
      "    Umur: 30\n",
      "    Profesi: UI/UX Designer\n",
      "Pelanggan ke- 3\n",
      "    Nama: Isaac\n",
      "    Umur: 40\n",
      "    Profesi: Front-End Dev\n"
     ]
    }
   ],
   "source": [
    "# looping \n",
    "for key, value in pelanggan.items():\n",
    "    print('Pelanggan ke-', key)\n",
    "    # looping\n",
    "    for key2 in value:\n",
    "        print(f'{\" \" * 3} {key2}: {value[key2]}')"
   ]
  },
  {
   "cell_type": "markdown",
   "metadata": {},
   "source": [
    "### Tuple"
   ]
  },
  {
   "cell_type": "code",
   "execution_count": 76,
   "metadata": {},
   "outputs": [
    {
     "name": "stdout",
     "output_type": "stream",
     "text": [
      "('Ikan', 'Beruang', 'Badak')\n",
      "<class 'tuple'>\n"
     ]
    }
   ],
   "source": [
    "tup = ('Ikan', 'Beruang', 'Badak')\n",
    "print(tup)\n",
    "print(type(tup))"
   ]
  },
  {
   "cell_type": "code",
   "execution_count": 77,
   "metadata": {},
   "outputs": [
    {
     "ename": "AttributeError",
     "evalue": "'tuple' object has no attribute 'add'",
     "output_type": "error",
     "traceback": [
      "\u001b[1;31m---------------------------------------------------------------------------\u001b[0m",
      "\u001b[1;31mAttributeError\u001b[0m                            Traceback (most recent call last)",
      "\u001b[1;32m<ipython-input-77-50df78a853c6>\u001b[0m in \u001b[0;36m<module>\u001b[1;34m\u001b[0m\n\u001b[0;32m      1\u001b[0m \u001b[1;31m# immutable type, tidak bisa menambah item\u001b[0m\u001b[1;33m\u001b[0m\u001b[1;33m\u001b[0m\u001b[1;33m\u001b[0m\u001b[0m\n\u001b[0;32m      2\u001b[0m \u001b[1;31m# yang berikut ini akan error\u001b[0m\u001b[1;33m\u001b[0m\u001b[1;33m\u001b[0m\u001b[1;33m\u001b[0m\u001b[0m\n\u001b[1;32m----> 3\u001b[1;33m \u001b[0mtup\u001b[0m\u001b[1;33m.\u001b[0m\u001b[0madd\u001b[0m\u001b[1;33m(\u001b[0m\u001b[1;34m'Burung'\u001b[0m\u001b[1;33m)\u001b[0m\u001b[1;33m\u001b[0m\u001b[1;33m\u001b[0m\u001b[0m\n\u001b[0m",
      "\u001b[1;31mAttributeError\u001b[0m: 'tuple' object has no attribute 'add'"
     ]
    }
   ],
   "source": [
    "# immutable type, tidak bisa menambah item\n",
    "# yang berikut ini akan error\n",
    "tup.add('Burung')"
   ]
  },
  {
   "cell_type": "code",
   "execution_count": 78,
   "metadata": {},
   "outputs": [
    {
     "ename": "TypeError",
     "evalue": "'tuple' object doesn't support item deletion",
     "output_type": "error",
     "traceback": [
      "\u001b[1;31m---------------------------------------------------------------------------\u001b[0m",
      "\u001b[1;31mTypeError\u001b[0m                                 Traceback (most recent call last)",
      "\u001b[1;32m<ipython-input-78-28eafd173795>\u001b[0m in \u001b[0;36m<module>\u001b[1;34m\u001b[0m\n\u001b[1;32m----> 1\u001b[1;33m \u001b[1;32mdel\u001b[0m \u001b[0mtup\u001b[0m\u001b[1;33m[\u001b[0m\u001b[1;36m0\u001b[0m\u001b[1;33m]\u001b[0m\u001b[1;33m\u001b[0m\u001b[1;33m\u001b[0m\u001b[0m\n\u001b[0m",
      "\u001b[1;31mTypeError\u001b[0m: 'tuple' object doesn't support item deletion"
     ]
    }
   ],
   "source": [
    "# tidak bisa hapus item elemen data tuple juga\n",
    "del tup[0]"
   ]
  },
  {
   "cell_type": "code",
   "execution_count": 80,
   "metadata": {},
   "outputs": [
    {
     "name": "stdout",
     "output_type": "stream",
     "text": [
      "3\n",
      "Beruang\n"
     ]
    }
   ],
   "source": [
    "print(len(tup))\n",
    "print(tup[1])"
   ]
  },
  {
   "cell_type": "code",
   "execution_count": 82,
   "metadata": {},
   "outputs": [
    {
     "name": "stdout",
     "output_type": "stream",
     "text": [
      "['Ikan', 'Beruang', 'Badak']\n",
      "['Ikan', 'Buaya', 'Badak']\n",
      "('Ikan', 'Buaya', 'Badak')\n"
     ]
    }
   ],
   "source": [
    "# convert to list \n",
    "tup_2 = list(tup)\n",
    "print(tup_2)\n",
    "tup_2[1] = 'Buaya'\n",
    "print(tup_2)\n",
    "tup_2 = tuple(tup_2)\n",
    "print(tup_2)"
   ]
  },
  {
   "cell_type": "markdown",
   "metadata": {},
   "source": [
    "### Set"
   ]
  },
  {
   "cell_type": "code",
   "execution_count": 83,
   "metadata": {},
   "outputs": [
    {
     "name": "stdout",
     "output_type": "stream",
     "text": [
      "{'Yereva', 'Berlin', 'Kairo', 'Tallin', 'London'} <class 'set'>\n"
     ]
    }
   ],
   "source": [
    "set_satu = {'Berlin', 'Kairo', 'Tallin', 'London', 'Yereva'}\n",
    "print(set_satu, type(set_satu))"
   ]
  },
  {
   "cell_type": "code",
   "execution_count": 84,
   "metadata": {},
   "outputs": [
    {
     "name": "stdout",
     "output_type": "stream",
     "text": [
      "Yereva\n",
      "Berlin\n",
      "Kairo\n",
      "Tallin\n",
      "London\n"
     ]
    }
   ],
   "source": [
    "for item in set_satu:\n",
    "    print(item)"
   ]
  },
  {
   "cell_type": "code",
   "execution_count": 86,
   "metadata": {},
   "outputs": [
    {
     "name": "stdout",
     "output_type": "stream",
     "text": [
      "{1, 2, 3, 4, 5, 6, 7, 8, 9, 10}\n"
     ]
    }
   ],
   "source": [
    "# set akan mengeliminasi semua item data yang sama \n",
    "set_angka = {1, 2, 3, 4, 5, 6, 7, 8, 1, 2, 3, 4, 5, 6, 7, 8, 9, 10}\n",
    "print(set_angka)"
   ]
  },
  {
   "cell_type": "code",
   "execution_count": 88,
   "metadata": {},
   "outputs": [
    {
     "name": "stdout",
     "output_type": "stream",
     "text": [
      "{'Yereva', 'Berlin', 'Kairo', 'Tallin', 'London'}\n"
     ]
    }
   ],
   "source": [
    "set_kota = {'Berlin', 'Kairo', 'Tallin', 'London', 'Yereva', 'Berlin', 'Tallin'}\n",
    "print(set_kota)"
   ]
  },
  {
   "cell_type": "code",
   "execution_count": 90,
   "metadata": {},
   "outputs": [
    {
     "name": "stdout",
     "output_type": "stream",
     "text": [
      "{5, 6, 7, 8, 9, 10}\n",
      "{1, 2, 3, 4, 5, 6, 7, 8, 9, 10, 11, 12, 13, 14, 15, 16, 17, 18, 19, 20}\n"
     ]
    }
   ],
   "source": [
    "set_angka1 = {1,2,3,4,5,6,7,8,9,10}\n",
    "set_angka2 = {5,6,7,8,9,10,11,12,13,14,15,16,17,18,19,20}\n",
    "print(set_angka1 & set_angka2) # irisan (intersection)\n",
    "print(set_angka1 | set_angka2) # gabungan (union)"
   ]
  },
  {
   "cell_type": "code",
   "execution_count": null,
   "metadata": {},
   "outputs": [],
   "source": []
  }
 ],
 "metadata": {
  "kernelspec": {
   "display_name": "Python 3",
   "language": "python",
   "name": "python3"
  },
  "language_info": {
   "codemirror_mode": {
    "name": "ipython",
    "version": 3
   },
   "file_extension": ".py",
   "mimetype": "text/x-python",
   "name": "python",
   "nbconvert_exporter": "python",
   "pygments_lexer": "ipython3",
   "version": "3.8.6"
  }
 },
 "nbformat": 4,
 "nbformat_minor": 4
}
