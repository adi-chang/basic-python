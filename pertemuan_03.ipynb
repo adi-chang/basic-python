{
 "cells": [
  {
   "cell_type": "code",
   "execution_count": 2,
   "metadata": {},
   "outputs": [
    {
     "name": "stdout",
     "output_type": "stream",
     "text": [
      "1\n",
      "2\n",
      "3\n",
      "4\n",
      "5\n",
      "6\n",
      "angka 6 ditemukan\n"
     ]
    }
   ],
   "source": [
    "# break\n",
    "number = [1, 2, 3, 4, 5, 6, 7, 8, 9, 10]\n",
    "for num in number:\n",
    "    print(num)\n",
    "    if num == 6:\n",
    "        print('angka 6 ditemukan')\n",
    "        break"
   ]
  },
  {
   "cell_type": "code",
   "execution_count": 4,
   "metadata": {},
   "outputs": [
    {
     "name": "stdout",
     "output_type": "stream",
     "text": [
      "1\n",
      "3\n",
      "5\n",
      "7\n",
      "9\n"
     ]
    }
   ],
   "source": [
    "# continue\n",
    "for num in number:\n",
    "    if num % 2 == 0:\n",
    "        continue\n",
    "    print(num)    "
   ]
  },
  {
   "cell_type": "code",
   "execution_count": 5,
   "metadata": {},
   "outputs": [
    {
     "name": "stdout",
     "output_type": "stream",
     "text": [
      "ada bilangan yang diskip\n",
      "11\n",
      "ada bilangan yang diskip\n",
      "13\n",
      "ada bilangan yang diskip\n",
      "15\n",
      "ada bilangan yang diskip\n",
      "17\n",
      "ada bilangan yang diskip\n",
      "19\n",
      "ada bilangan yang diskip\n"
     ]
    }
   ],
   "source": [
    "numbers = [10, 11, 12, 13, 14, 15, 16, 17, 18, 19, 20]\n",
    "for n in numbers:\n",
    "    if n % 2 == 0:\n",
    "        print('ada bilangan yang diskip')\n",
    "        continue\n",
    "    print(n)"
   ]
  },
  {
   "cell_type": "code",
   "execution_count": 7,
   "metadata": {},
   "outputs": [],
   "source": [
    "# pass \n",
    "for x in range(1, 10):\n",
    "    pass\n",
    "if x < 10:\n",
    "    pass"
   ]
  },
  {
   "cell_type": "markdown",
   "metadata": {},
   "source": [
    "## Function"
   ]
  },
  {
   "cell_type": "code",
   "execution_count": 9,
   "metadata": {},
   "outputs": [
    {
     "name": "stdout",
     "output_type": "stream",
     "text": [
      "Halo, selamat siang!\n",
      "Halo, selamat siang!\n"
     ]
    }
   ],
   "source": [
    "# mendefinisikan function\n",
    "def sapa():\n",
    "    print(\"Halo, selamat siang!\")\n",
    "    \n",
    "sapa()\n",
    "sapa()"
   ]
  },
  {
   "cell_type": "code",
   "execution_count": 11,
   "metadata": {},
   "outputs": [
    {
     "name": "stdout",
     "output_type": "stream",
     "text": [
      "Hai, Rima Selamat Pagi !\n",
      "Hai, Rina Selamat Siang !\n",
      "Hai, Budi Selamat Malam !\n"
     ]
    }
   ],
   "source": [
    "# argumen dan parameter\n",
    "def greet(nama, waktu):\n",
    "    print(\"Hai,\", nama, \"Selamat\", waktu, \"!\")\n",
    "\n",
    "greet(\"Rima\", \"Pagi\")\n",
    "greet(\"Rina\", \"Siang\")\n",
    "greet(\"Budi\", \"Malam\")"
   ]
  },
  {
   "cell_type": "code",
   "execution_count": 12,
   "metadata": {},
   "outputs": [
    {
     "name": "stdout",
     "output_type": "stream",
     "text": [
      "42\n",
      "100\n",
      "720\n"
     ]
    }
   ],
   "source": [
    "def sumxy(x, y):\n",
    "    x = x * y\n",
    "    print(x)\n",
    "    \n",
    "sumxy(6, 7)\n",
    "sumxy(10, 10)\n",
    "sumxy(9, 80)"
   ]
  },
  {
   "cell_type": "code",
   "execution_count": 14,
   "metadata": {},
   "outputs": [
    {
     "name": "stdout",
     "output_type": "stream",
     "text": [
      "Halo\n"
     ]
    },
    {
     "data": {
      "text/plain": [
       "10"
      ]
     },
     "execution_count": 14,
     "metadata": {},
     "output_type": "execute_result"
    }
   ],
   "source": [
    "# return\n",
    "def func():\n",
    "    print(\"Halo\")\n",
    "    return 7 + 3\n",
    "    \n",
    "func()"
   ]
  },
  {
   "cell_type": "code",
   "execution_count": 17,
   "metadata": {},
   "outputs": [
    {
     "name": "stdin",
     "output_type": "stream",
     "text": [
      "masukkan angka ?  5\n"
     ]
    },
    {
     "data": {
      "text/plain": [
       "50"
      ]
     },
     "execution_count": 17,
     "metadata": {},
     "output_type": "execute_result"
    }
   ],
   "source": [
    "def check_number(x):\n",
    "    if x <= 5:\n",
    "        return x * 10\n",
    "    elif 5 < x <= 10:\n",
    "        return x * 100\n",
    "    else:\n",
    "        return x * 1000\n",
    "\n",
    "number = int(input('masukkan angka ? '))\n",
    "\n",
    "check_number(number)"
   ]
  },
  {
   "cell_type": "code",
   "execution_count": 18,
   "metadata": {},
   "outputs": [
    {
     "name": "stdin",
     "output_type": "stream",
     "text": [
      "masukkan angka ?  7\n"
     ]
    },
    {
     "data": {
      "text/plain": [
       "700"
      ]
     },
     "execution_count": 18,
     "metadata": {},
     "output_type": "execute_result"
    }
   ],
   "source": [
    "def check_number(x):\n",
    "    if x <= 5:\n",
    "        return x * 10\n",
    "    else:\n",
    "        return x * 100\n",
    "\n",
    "number = int(input('masukkan angka ? '))\n",
    "\n",
    "check_number(number)"
   ]
  },
  {
   "cell_type": "code",
   "execution_count": 19,
   "metadata": {},
   "outputs": [
    {
     "name": "stdout",
     "output_type": "stream",
     "text": [
      "Nama: Rina \n",
      "Umur: 17\n"
     ]
    }
   ],
   "source": [
    "# default parameter\n",
    "# fungsi umur anak sma\n",
    "def show_info(nama, umur='17'):\n",
    "    print('Nama:', nama, '\\nUmur:', umur)\n",
    "\n",
    "show_info('Rina')"
   ]
  },
  {
   "cell_type": "code",
   "execution_count": 23,
   "metadata": {},
   "outputs": [
    {
     "name": "stdout",
     "output_type": "stream",
     "text": [
      "Nama: Rima \n",
      "Umur: 30 \n",
      "Status: Lajang \n",
      "Pekerjaan: Data Scientist\n"
     ]
    }
   ],
   "source": [
    "# keyword parameter\n",
    "\n",
    "def user(nama, umur, status, pekerjaan):\n",
    "    print('Nama:', nama,'\\nUmur:', umur, '\\nStatus:', status, '\\nPekerjaan:', pekerjaan)\n",
    "    \n",
    "user(pekerjaan='Data Scientist', umur=30, status='Lajang', nama='Rima')"
   ]
  },
  {
   "cell_type": "code",
   "execution_count": 24,
   "metadata": {},
   "outputs": [
    {
     "name": "stdout",
     "output_type": "stream",
     "text": [
      "iqbal\n"
     ]
    }
   ],
   "source": [
    "# dictionary\n",
    "users = {'nama': 'iqbal', 'umur': 25}\n",
    "print(users['nama'])"
   ]
  },
  {
   "cell_type": "code",
   "execution_count": 25,
   "metadata": {},
   "outputs": [
    {
     "name": "stdout",
     "output_type": "stream",
     "text": [
      "A\n",
      "B\n",
      "A\n",
      "B\n",
      "C\n",
      "D\n",
      "A\n",
      "B\n",
      "C\n",
      "D\n",
      "E\n",
      "F\n"
     ]
    }
   ],
   "source": [
    "# *args dan **kwargs\n",
    "\n",
    "# *args\n",
    "def some_function(*names):\n",
    "    for name in names:\n",
    "        print(name)\n",
    "        \n",
    "some_function('A', 'B')\n",
    "some_function('A', 'B', 'C', 'D')\n",
    "some_function('A', 'B', 'C', 'D', 'E', 'F')\n"
   ]
  },
  {
   "cell_type": "code",
   "execution_count": 29,
   "metadata": {},
   "outputs": [
    {
     "name": "stdout",
     "output_type": "stream",
     "text": [
      "6\n",
      "120\n",
      "3,628,800\n"
     ]
    }
   ],
   "source": [
    "# *args\n",
    "def multiply_all_numbers(*nums):\n",
    "    total = 1\n",
    "    for num in nums:\n",
    "        total *= num\n",
    "    return total\n",
    "\n",
    "print(multiply_all_numbers(1, 2, 3))\n",
    "print(multiply_all_numbers(1, 2, 3, 4, 5))\n",
    "print(format(multiply_all_numbers(1, 2, 3, 4, 5, 6, 7, 8, 9, 10), \",\"))"
   ]
  },
  {
   "cell_type": "code",
   "execution_count": 38,
   "metadata": {},
   "outputs": [
    {
     "name": "stdout",
     "output_type": "stream",
     "text": [
      "Nama: Rima\n",
      "Umur: 10\n",
      "Hobi: Main Bola\n",
      "Nama: Budi\n",
      "Umur: 20\n",
      "Hobi: Riset\n"
     ]
    }
   ],
   "source": [
    "# **kwargs\n",
    "def biodata(**data):\n",
    "    for k, v in data.items():\n",
    "        print(k, v, sep=': ')\n",
    "        \n",
    "# masing-masing nilai data harus key=value dan masing-masing dipisahkan dengan koma\n",
    "biodata(Nama='Rima', Umur=10, Hobi='Main Bola') \n",
    "\n",
    "# jika yang diinput adalah merupakan sebuah variable dict\n",
    "adict = {'Nama': 'Budi', 'Umur': 20, 'Hobi': 'Riset'}\n",
    "biodata(**adict) # unpack dengan **kwargs"
   ]
  },
  {
   "cell_type": "code",
   "execution_count": 42,
   "metadata": {},
   "outputs": [
    {
     "name": "stdout",
     "output_type": "stream",
     "text": [
      "5.0\n",
      "2.5\n",
      "5.0\n"
     ]
    }
   ],
   "source": [
    "# lambda function / anonymous function\n",
    "bagi = lambda x, y: x / y\n",
    "\n",
    "x = bagi(100, 20)\n",
    "print(x)\n",
    "print(bagi(5, 2))\n",
    "print(bagi(10, 2))"
   ]
  },
  {
   "cell_type": "code",
   "execution_count": 49,
   "metadata": {},
   "outputs": [
    {
     "name": "stdout",
     "output_type": "stream",
     "text": [
      "(40, 44, 48, 52, 56, 60, 64, 68, 72, 76, 80)\n",
      "(100, 121, 144, 169, 196, 225, 256, 289, 324, 361, 400)\n"
     ]
    }
   ],
   "source": [
    "deret = [10, 11, 12, 13, 14, 15, 16, 17, 18, 19, 20]\n",
    "deret_2 = [10, 11, 12, 13, 14, 15, 16, 17, 18, 19, 20]\n",
    "\n",
    "hasil = tuple(map(lambda x: x * 4, deret))\n",
    "print(hasil)\n",
    "hasil_2 = tuple(map(lambda x, y: x * y, deret, deret_2))\n",
    "print(hasil_2)"
   ]
  },
  {
   "cell_type": "code",
   "execution_count": 58,
   "metadata": {},
   "outputs": [
    {
     "name": "stdout",
     "output_type": "stream",
     "text": [
      "angka1 dalam function: 80\n",
      "angka1 dalam function: 80\n",
      "angka1: 80\n"
     ]
    }
   ],
   "source": [
    "# scope var. dalam python: RULES => LEGB (Local Enclosing Global Builtin)\n",
    "angka1 = 70 # global scope variable\n",
    "\n",
    "def numbers_1():\n",
    "    angka1 = 80 # local variable\n",
    "    print('angka1 dalam function:', angka1)\n",
    "\n",
    "def numbers_2():\n",
    "    global angka1 # angka1 di dalam function ini menggunakan var. angka1 yang global\n",
    "    angka1 = 80\n",
    "    print('angka1 dalam function:', angka1)\n",
    "\n",
    "numbers_1()    \n",
    "numbers_2()\n",
    "\n",
    "print('angka1:', angka1)"
   ]
  },
  {
   "cell_type": "code",
   "execution_count": 61,
   "metadata": {},
   "outputs": [
    {
     "name": "stdout",
     "output_type": "stream",
     "text": [
      "3.141592653589793\n",
      "5.0\n"
     ]
    }
   ],
   "source": [
    "# module\n",
    "import math\n",
    "\n",
    "print(math.pi)\n",
    "print(math.sqrt(25))"
   ]
  },
  {
   "cell_type": "code",
   "execution_count": 62,
   "metadata": {},
   "outputs": [
    {
     "name": "stdout",
     "output_type": "stream",
     "text": [
      "3.141592653589793\n",
      "5.0\n"
     ]
    }
   ],
   "source": [
    "import math as matematika\n",
    "\n",
    "print(matematika.pi)\n",
    "print(matematika.sqrt(25))"
   ]
  },
  {
   "cell_type": "code",
   "execution_count": 66,
   "metadata": {},
   "outputs": [
    {
     "name": "stdout",
     "output_type": "stream",
     "text": [
      "win32\n"
     ]
    }
   ],
   "source": [
    "import sys\n",
    "print(sys.platform)"
   ]
  },
  {
   "cell_type": "code",
   "execution_count": 92,
   "metadata": {},
   "outputs": [
    {
     "name": "stdout",
     "output_type": "stream",
     "text": [
      "<module 'datetime' from 'C:\\\\Program Files\\\\Python38\\\\lib\\\\datetime.py'>\n",
      "2020-11-14 00:00:00\n",
      "2020-11-14\n"
     ]
    }
   ],
   "source": [
    "import datetime\n",
    "print(datetime)\n",
    "curr = datetime.datetime(2020, 11, 14)\n",
    "print(curr)\n",
    "print(datetime.date.today())"
   ]
  }
 ],
 "metadata": {
  "kernelspec": {
   "display_name": "Python 3",
   "language": "python",
   "name": "python3"
  },
  "language_info": {
   "codemirror_mode": {
    "name": "ipython",
    "version": 3
   },
   "file_extension": ".py",
   "mimetype": "text/x-python",
   "name": "python",
   "nbconvert_exporter": "python",
   "pygments_lexer": "ipython3",
   "version": "3.8.6"
  }
 },
 "nbformat": 4,
 "nbformat_minor": 4
}
