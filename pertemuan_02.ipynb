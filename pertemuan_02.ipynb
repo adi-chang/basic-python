{
 "cells": [
  {
   "cell_type": "markdown",
   "metadata": {},
   "source": [
    "## Operasi String"
   ]
  },
  {
   "cell_type": "markdown",
   "metadata": {},
   "source": [
    "### mengubah huruf besar / kecil"
   ]
  },
  {
   "cell_type": "code",
   "execution_count": 1,
   "metadata": {},
   "outputs": [
    {
     "name": "stdout",
     "output_type": "stream",
     "text": [
      "Bayu\n",
      "BAYU\n"
     ]
    }
   ],
   "source": [
    "# upper\n",
    "nama = 'Bayu'\n",
    "nama_cap = nama.upper()\n",
    "print(nama)\n",
    "print(nama_cap)"
   ]
  },
  {
   "cell_type": "code",
   "execution_count": 2,
   "metadata": {},
   "outputs": [
    {
     "name": "stdout",
     "output_type": "stream",
     "text": [
      "ANNALIES\n",
      "annalies\n"
     ]
    }
   ],
   "source": [
    "# lower\n",
    "nama = 'ANNALIES'\n",
    "nama_lower = nama.lower()\n",
    "print(nama)\n",
    "print(nama_lower)"
   ]
  },
  {
   "cell_type": "code",
   "execution_count": 3,
   "metadata": {},
   "outputs": [
    {
     "name": "stdout",
     "output_type": "stream",
     "text": [
      "annalies\n"
     ]
    }
   ],
   "source": [
    "print(nama.lower())"
   ]
  },
  {
   "cell_type": "markdown",
   "metadata": {},
   "source": [
    "### awalan dan akhiran"
   ]
  },
  {
   "cell_type": "code",
   "execution_count": 4,
   "metadata": {},
   "outputs": [
    {
     "name": "stdout",
     "output_type": "stream",
     "text": [
      "Indonesia         \n",
      "18\n",
      "Indonesia\n",
      "9\n"
     ]
    }
   ],
   "source": [
    "# rstrip\n",
    "rstrip = 'Indonesia         '\n",
    "print(rstrip)\n",
    "print(len(rstrip))\n",
    "print(rstrip.rstrip())\n",
    "print(len(rstrip.rstrip()))"
   ]
  },
  {
   "cell_type": "code",
   "execution_count": 5,
   "metadata": {},
   "outputs": [
    {
     "name": "stdout",
     "output_type": "stream",
     "text": [
      "Indonesia         \n",
      "18\n",
      "Indonesia\n",
      "9\n"
     ]
    }
   ],
   "source": [
    "# lstrip\n",
    "lstrip = 'Indonesia         '\n",
    "print(lstrip)\n",
    "print(len(lstrip))\n",
    "print(lstrip.rstrip())\n",
    "print(len(lstrip.rstrip()))"
   ]
  },
  {
   "cell_type": "code",
   "execution_count": 6,
   "metadata": {},
   "outputs": [
    {
     "name": "stdout",
     "output_type": "stream",
     "text": [
      "           Indonesia                  \n",
      "Merdeka!\n",
      "Indonesia Merdeka!\n"
     ]
    }
   ],
   "source": [
    "# strip\n",
    "str1 = '           Indonesia                  '\n",
    "str2 = 'Merdeka!'\n",
    "print(str1)\n",
    "print(str2)\n",
    "print(str1.strip(), str2)"
   ]
  },
  {
   "cell_type": "code",
   "execution_count": 9,
   "metadata": {},
   "outputs": [
    {
     "name": "stdout",
     "output_type": "stream",
     "text": [
      "halohalohalosemuanyahalohalohalo\n",
      "semuany\n",
      "semuanya\n"
     ]
    }
   ],
   "source": [
    "# strip juga bisa menghilangkan bagian tertentu dari kalimat \n",
    "word = 'halohalohalosemuanyahalohalohalo'\n",
    "print(word)\n",
    "print(word.strip('halo')) # buang semua karakter h a l dan o\n",
    "print(word.replace('halo', '')) # alternatif jika cuman mau buang kata 'halo' pakai replace"
   ]
  },
  {
   "cell_type": "markdown",
   "metadata": {},
   "source": [
    "### menggabungkan dan memisahkan string"
   ]
  },
  {
   "cell_type": "code",
   "execution_count": 10,
   "metadata": {},
   "outputs": [
    {
     "name": "stdout",
     "output_type": "stream",
     "text": [
      "Indonesia, ., AI\n"
     ]
    }
   ],
   "source": [
    "# join\n",
    "print(', '.join(['Indonesia', '.', 'AI']))"
   ]
  },
  {
   "cell_type": "code",
   "execution_count": 13,
   "metadata": {},
   "outputs": [
    {
     "name": "stdout",
     "output_type": "stream",
     "text": [
      "['Indonesia', '.', 'AI']\n",
      "['Indonesia', 'tanah', 'airku']\n",
      "['', ' tanah airku']\n"
     ]
    }
   ],
   "source": [
    "# split\n",
    "print('Indonesia-.-AI'.split('-'))\n",
    "var = 'Indonesia tanah airku'\n",
    "var_dua = var.split()\n",
    "print(var_dua)\n",
    "var_tiga = var.split('Indonesia')\n",
    "print(var_tiga)"
   ]
  },
  {
   "cell_type": "markdown",
   "metadata": {},
   "source": [
    "### mengganti elemen di string"
   ]
  },
  {
   "cell_type": "code",
   "execution_count": 18,
   "metadata": {},
   "outputs": [
    {
     "name": "stdout",
     "output_type": "stream",
     "text": [
      "Indonesia tanah airku\n"
     ]
    }
   ],
   "source": [
    "nama = 'Indonesia Negaraku'\n",
    "print(nama.replace('Negaraku', 'tanah airku'))"
   ]
  },
  {
   "cell_type": "code",
   "execution_count": 21,
   "metadata": {},
   "outputs": [
    {
     "name": "stdout",
     "output_type": "stream",
     "text": [
      "True\n",
      "False\n",
      "False\n"
     ]
    }
   ],
   "source": [
    "lower = 'aku cinta indonesia'\n",
    "print(lower.islower())\n",
    "print(lower.isupper())\n",
    "print(lower.isalpha())"
   ]
  },
  {
   "cell_type": "markdown",
   "metadata": {},
   "source": [
    "### lain-lain"
   ]
  },
  {
   "cell_type": "code",
   "execution_count": 23,
   "metadata": {},
   "outputs": [
    {
     "name": "stdout",
     "output_type": "stream",
     "text": [
      "James bond\n",
      "James Bond\n"
     ]
    }
   ],
   "source": [
    "nama = 'james bond'\n",
    "print(nama.capitalize()) # karakter pertama saja jadi uppercase\n",
    "print(nama.title()) # karakter pertama setiap kata jadi uppercase"
   ]
  },
  {
   "cell_type": "markdown",
   "metadata": {},
   "source": [
    "## Konversi Tipe Data"
   ]
  },
  {
   "cell_type": "code",
   "execution_count": 24,
   "metadata": {},
   "outputs": [
    {
     "name": "stdout",
     "output_type": "stream",
     "text": [
      "<class 'int'>\n"
     ]
    }
   ],
   "source": [
    "angka = 1\n",
    "print(type(angka))"
   ]
  },
  {
   "cell_type": "code",
   "execution_count": 26,
   "metadata": {},
   "outputs": [
    {
     "name": "stdout",
     "output_type": "stream",
     "text": [
      "<class 'str'>\n",
      "1\n"
     ]
    }
   ],
   "source": [
    "angka_dua = str(angka)\n",
    "print(type(angka_dua))\n",
    "print(angka_dua)"
   ]
  },
  {
   "cell_type": "code",
   "execution_count": 2,
   "metadata": {},
   "outputs": [
    {
     "name": "stdout",
     "output_type": "stream",
     "text": [
      "<class 'float'>\n"
     ]
    }
   ],
   "source": [
    "# integer\n",
    "afloat = 1.5\n",
    "print(type(afloat))"
   ]
  },
  {
   "cell_type": "code",
   "execution_count": 3,
   "metadata": {},
   "outputs": [
    {
     "name": "stdout",
     "output_type": "stream",
     "text": [
      "1\n"
     ]
    }
   ],
   "source": [
    "print(int(afloat))"
   ]
  },
  {
   "cell_type": "code",
   "execution_count": 5,
   "metadata": {},
   "outputs": [
    {
     "name": "stdout",
     "output_type": "stream",
     "text": [
      "1.5\n",
      "1\n"
     ]
    }
   ],
   "source": [
    "bilangan = 1.5\n",
    "a_int = int(bilangan)\n",
    "print(bilangan)\n",
    "print(a_int)"
   ]
  },
  {
   "cell_type": "code",
   "execution_count": 4,
   "metadata": {},
   "outputs": [
    {
     "name": "stdout",
     "output_type": "stream",
     "text": [
      "8\n",
      "8.0\n"
     ]
    }
   ],
   "source": [
    "bilangan = 8\n",
    "a_float = float(bilangan)\n",
    "print(bilangan)\n",
    "print(a_float)"
   ]
  },
  {
   "cell_type": "markdown",
   "metadata": {},
   "source": [
    "### cara lain untuk print"
   ]
  },
  {
   "cell_type": "code",
   "execution_count": 6,
   "metadata": {},
   "outputs": [
    {
     "name": "stdout",
     "output_type": "stream",
     "text": [
      "Halo semuanya\n"
     ]
    }
   ],
   "source": [
    "print('Halo {}'.format('semuanya'))"
   ]
  },
  {
   "cell_type": "code",
   "execution_count": 7,
   "metadata": {},
   "outputs": [
    {
     "name": "stdout",
     "output_type": "stream",
     "text": [
      "Aku cinta Indonesia\n"
     ]
    }
   ],
   "source": [
    "var = 'Indonesia'\n",
    "print('Aku cinta %s' % var)"
   ]
  },
  {
   "cell_type": "code",
   "execution_count": 8,
   "metadata": {},
   "outputs": [
    {
     "name": "stdout",
     "output_type": "stream",
     "text": [
      "Berhitung mulai dari 1234\n"
     ]
    }
   ],
   "source": [
    "var_dua = 1234\n",
    "print('Berhitung mulai dari %d' % var_dua)"
   ]
  },
  {
   "cell_type": "markdown",
   "metadata": {},
   "source": [
    "### Input Data"
   ]
  },
  {
   "cell_type": "code",
   "execution_count": 10,
   "metadata": {},
   "outputs": [
    {
     "name": "stdin",
     "output_type": "stream",
     "text": [
      "siapa nama kamu ?  Adi\n"
     ]
    },
    {
     "name": "stdout",
     "output_type": "stream",
     "text": [
      "Adi\n",
      "<class 'str'>\n"
     ]
    }
   ],
   "source": [
    "nama = input('siapa nama kamu ? ')\n",
    "print(nama)\n",
    "print(type(nama))"
   ]
  },
  {
   "cell_type": "code",
   "execution_count": 13,
   "metadata": {},
   "outputs": [
    {
     "name": "stdin",
     "output_type": "stream",
     "text": [
      "masukkan angka ?  1\n"
     ]
    },
    {
     "name": "stdout",
     "output_type": "stream",
     "text": [
      "201\n"
     ]
    }
   ],
   "source": [
    "angka1 = input('masukkan angka ? ')\n",
    "angka2 = 200 \n",
    "hasil = int(angka1) + angka2\n",
    "print(hasil)"
   ]
  },
  {
   "cell_type": "markdown",
   "metadata": {},
   "source": [
    "### conditional if, elif dan else"
   ]
  },
  {
   "cell_type": "code",
   "execution_count": 16,
   "metadata": {},
   "outputs": [
    {
     "name": "stdout",
     "output_type": "stream",
     "text": [
      "True\n",
      "ternyata 40 lebih kecil dari 200\n",
      "ternyata 40 lebih kecil dari 200\n",
      "ternyata 40 lebih kecil dari 200\n"
     ]
    }
   ],
   "source": [
    "y = 40\n",
    "z = 200\n",
    "w = y < z\n",
    "print(w)\n",
    "if w:\n",
    "    print('ternyata 40 lebih kecil dari 200')    \n",
    "    print(f'ternyata {y} lebih kecil dari {z}')\n",
    "    print('ternyata {} lebih kecil dari {}'.format(y, z))"
   ]
  },
  {
   "cell_type": "code",
   "execution_count": 19,
   "metadata": {},
   "outputs": [
    {
     "name": "stdout",
     "output_type": "stream",
     "text": [
      "enggak benar, nih!\n"
     ]
    }
   ],
   "source": [
    "var_x = 0\n",
    "if var_x > 1:\n",
    "    print('5 lebih besar dari 1')\n",
    "else:\n",
    "    print('enggak benar, nih!')"
   ]
  },
  {
   "cell_type": "code",
   "execution_count": 20,
   "metadata": {},
   "outputs": [
    {
     "name": "stdin",
     "output_type": "stream",
     "text": [
      "angka 1 ?  1\n",
      "angka 2 ?  2\n"
     ]
    },
    {
     "name": "stdout",
     "output_type": "stream",
     "text": [
      "angka 1 lebih kecil dari angka 2\n"
     ]
    }
   ],
   "source": [
    "a = int(input('angka 1 ? '))\n",
    "b = int(input('angka 2 ? '))\n",
    "if a > b:\n",
    "    print('angka 1 lebih besar dari angka 2')\n",
    "else:\n",
    "    print('angka 1 lebih kecil dari angka 2')"
   ]
  },
  {
   "cell_type": "code",
   "execution_count": 23,
   "metadata": {},
   "outputs": [
    {
     "name": "stdin",
     "output_type": "stream",
     "text": [
      "masukkan angka ?  1000\n"
     ]
    },
    {
     "name": "stdout",
     "output_type": "stream",
     "text": [
      "input anda lebih besar dari 10\n"
     ]
    }
   ],
   "source": [
    "your_input = int(input('masukkan angka ? '))\n",
    "angka_pembanding = 10\n",
    "if your_input < 10:\n",
    "    print('input anda lebih kecil dari 10')\n",
    "elif your_input > 10:\n",
    "    print('input anda lebih besar dari 10')\n",
    "else:\n",
    "    print('input anda sama dengan 10')"
   ]
  },
  {
   "cell_type": "code",
   "execution_count": 29,
   "metadata": {},
   "outputs": [
    {
     "name": "stdin",
     "output_type": "stream",
     "text": [
      "masukkan nama anda ?  Adi\n",
      "pukul berapa anda datang ?  7\n"
     ]
    },
    {
     "name": "stdout",
     "output_type": "stream",
     "text": [
      "Halo, Adi\n",
      "wah, anda sangat rajin Adi!\n"
     ]
    }
   ],
   "source": [
    "# elif\n",
    "your_name = input('masukkan nama anda ? ')\n",
    "time = int(input('pukul berapa anda datang ? '))\n",
    "limit = 10\n",
    "print('Halo,', your_name)\n",
    "if time == 8:\n",
    "    print(f'wah, anda datang tepat waktu {your_name}!')\n",
    "elif time < 8:\n",
    "    print(f'wah, anda sangat rajin {your_name}!')\n",
    "elif time > 8 and time <= limit:\n",
    "    print(f'kenapa anda terlambat {your_name}?')\n",
    "else:\n",
    "    print('anda dipotong gaji')"
   ]
  },
  {
   "cell_type": "markdown",
   "metadata": {},
   "source": [
    "### Loop"
   ]
  },
  {
   "cell_type": "code",
   "execution_count": 30,
   "metadata": {},
   "outputs": [
    {
     "name": "stdout",
     "output_type": "stream",
     "text": [
      "saya ingin makan kebab\n",
      "saya ingin makan burger\n",
      "saya ingin makan spaghetti\n"
     ]
    }
   ],
   "source": [
    "foods = ['kebab', 'burger', 'spaghetti']\n",
    "for elemen in foods:\n",
    "    print('saya ingin makan', elemen)"
   ]
  },
  {
   "cell_type": "code",
   "execution_count": 31,
   "metadata": {},
   "outputs": [
    {
     "name": "stdout",
     "output_type": "stream",
     "text": [
      "1\n",
      "2\n",
      "3\n",
      "4\n",
      "5\n",
      "6\n",
      "7\n"
     ]
    }
   ],
   "source": [
    "angka = [1,2,3,4,5,6,7]\n",
    "for nomor in angka:\n",
    "    print(nomor)"
   ]
  },
  {
   "cell_type": "markdown",
   "metadata": {},
   "source": [
    "### while"
   ]
  },
  {
   "cell_type": "code",
   "execution_count": 32,
   "metadata": {},
   "outputs": [
    {
     "name": "stdout",
     "output_type": "stream",
     "text": [
      "1\n",
      "2\n",
      "3\n",
      "4\n",
      "5\n",
      "6\n",
      "7\n",
      "8\n",
      "9\n",
      "10\n"
     ]
    }
   ],
   "source": [
    "i = 1\n",
    "while i <= 10:\n",
    "    print(i)\n",
    "    i += 1"
   ]
  },
  {
   "cell_type": "code",
   "execution_count": 35,
   "metadata": {},
   "outputs": [
    {
     "name": "stdin",
     "output_type": "stream",
     "text": [
      "masukkan angka ?  7\n"
     ]
    },
    {
     "name": "stdout",
     "output_type": "stream",
     "text": [
      "1\n",
      "2\n",
      "3\n",
      "4\n",
      "5\n",
      "6\n",
      "7\n",
      "angka 7 ditemukan ...\n"
     ]
    }
   ],
   "source": [
    "angka_input = int(input('masukkan angka ? '))\n",
    "angka_z = [1, 2, 3, 4, 5, 6, 7, 8, 9, 10]\n",
    "for a in angka_z:\n",
    "    print(a)\n",
    "    if a == angka_input:\n",
    "        print(f'angka {a} ditemukan ...')\n",
    "        break"
   ]
  },
  {
   "cell_type": "code",
   "execution_count": null,
   "metadata": {},
   "outputs": [],
   "source": []
  },
  {
   "cell_type": "code",
   "execution_count": null,
   "metadata": {},
   "outputs": [],
   "source": []
  },
  {
   "cell_type": "code",
   "execution_count": null,
   "metadata": {},
   "outputs": [],
   "source": []
  },
  {
   "cell_type": "code",
   "execution_count": null,
   "metadata": {},
   "outputs": [],
   "source": []
  },
  {
   "cell_type": "code",
   "execution_count": null,
   "metadata": {},
   "outputs": [],
   "source": []
  },
  {
   "cell_type": "code",
   "execution_count": null,
   "metadata": {},
   "outputs": [],
   "source": []
  },
  {
   "cell_type": "code",
   "execution_count": null,
   "metadata": {},
   "outputs": [],
   "source": []
  },
  {
   "cell_type": "code",
   "execution_count": null,
   "metadata": {},
   "outputs": [],
   "source": []
  },
  {
   "cell_type": "code",
   "execution_count": null,
   "metadata": {},
   "outputs": [],
   "source": []
  },
  {
   "cell_type": "code",
   "execution_count": null,
   "metadata": {},
   "outputs": [],
   "source": []
  },
  {
   "cell_type": "code",
   "execution_count": null,
   "metadata": {},
   "outputs": [],
   "source": []
  },
  {
   "cell_type": "code",
   "execution_count": null,
   "metadata": {},
   "outputs": [],
   "source": []
  },
  {
   "cell_type": "code",
   "execution_count": null,
   "metadata": {},
   "outputs": [],
   "source": []
  },
  {
   "cell_type": "code",
   "execution_count": null,
   "metadata": {},
   "outputs": [],
   "source": []
  },
  {
   "cell_type": "code",
   "execution_count": null,
   "metadata": {},
   "outputs": [],
   "source": []
  },
  {
   "cell_type": "code",
   "execution_count": null,
   "metadata": {},
   "outputs": [],
   "source": []
  },
  {
   "cell_type": "code",
   "execution_count": null,
   "metadata": {},
   "outputs": [],
   "source": []
  },
  {
   "cell_type": "code",
   "execution_count": null,
   "metadata": {},
   "outputs": [],
   "source": []
  },
  {
   "cell_type": "code",
   "execution_count": null,
   "metadata": {},
   "outputs": [],
   "source": []
  },
  {
   "cell_type": "code",
   "execution_count": null,
   "metadata": {},
   "outputs": [],
   "source": []
  },
  {
   "cell_type": "code",
   "execution_count": null,
   "metadata": {},
   "outputs": [],
   "source": []
  },
  {
   "cell_type": "code",
   "execution_count": null,
   "metadata": {},
   "outputs": [],
   "source": []
  },
  {
   "cell_type": "code",
   "execution_count": null,
   "metadata": {},
   "outputs": [],
   "source": []
  },
  {
   "cell_type": "code",
   "execution_count": null,
   "metadata": {},
   "outputs": [],
   "source": []
  },
  {
   "cell_type": "code",
   "execution_count": null,
   "metadata": {},
   "outputs": [],
   "source": []
  },
  {
   "cell_type": "code",
   "execution_count": null,
   "metadata": {},
   "outputs": [],
   "source": []
  },
  {
   "cell_type": "code",
   "execution_count": null,
   "metadata": {},
   "outputs": [],
   "source": []
  },
  {
   "cell_type": "code",
   "execution_count": null,
   "metadata": {},
   "outputs": [],
   "source": []
  },
  {
   "cell_type": "code",
   "execution_count": null,
   "metadata": {},
   "outputs": [],
   "source": []
  },
  {
   "cell_type": "code",
   "execution_count": null,
   "metadata": {},
   "outputs": [],
   "source": []
  },
  {
   "cell_type": "code",
   "execution_count": null,
   "metadata": {},
   "outputs": [],
   "source": []
  }
 ],
 "metadata": {
  "kernelspec": {
   "display_name": "Python 3",
   "language": "python",
   "name": "python3"
  },
  "language_info": {
   "codemirror_mode": {
    "name": "ipython",
    "version": 3
   },
   "file_extension": ".py",
   "mimetype": "text/x-python",
   "name": "python",
   "nbconvert_exporter": "python",
   "pygments_lexer": "ipython3",
   "version": "3.8.6"
  }
 },
 "nbformat": 4,
 "nbformat_minor": 4
}
