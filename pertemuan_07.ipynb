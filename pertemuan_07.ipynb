{
 "cells": [
  {
   "cell_type": "markdown",
   "metadata": {},
   "source": [
    "### Iterator"
   ]
  },
  {
   "cell_type": "code",
   "execution_count": 2,
   "metadata": {},
   "outputs": [],
   "source": [
    "my_list = [1,2,3,4,5,6,7,8,9,10]"
   ]
  },
  {
   "cell_type": "code",
   "execution_count": 3,
   "metadata": {},
   "outputs": [
    {
     "output_type": "stream",
     "name": "stdout",
     "text": [
      "1\n2\n3\n4\n5\n6\n7\n8\n9\n10\n"
     ]
    }
   ],
   "source": [
    "for i in my_list:\n",
    "    print(i)"
   ]
  },
  {
   "cell_type": "code",
   "execution_count": 9,
   "metadata": {},
   "outputs": [],
   "source": [
    "my_iter = iter(my_list)"
   ]
  },
  {
   "cell_type": "code",
   "execution_count": 10,
   "metadata": {},
   "outputs": [
    {
     "output_type": "execute_result",
     "data": {
      "text/plain": [
       "1"
      ]
     },
     "metadata": {},
     "execution_count": 10
    }
   ],
   "source": [
    "next(my_iter)"
   ]
  },
  {
   "cell_type": "code",
   "execution_count": 11,
   "metadata": {},
   "outputs": [
    {
     "output_type": "stream",
     "name": "stdout",
     "text": [
      "2\n3\n4\n5\n6\n"
     ]
    }
   ],
   "source": [
    "print(next(my_iter))\n",
    "print(next(my_iter))\n",
    "print(next(my_iter))\n",
    "print(next(my_iter))\n",
    "print(next(my_iter))"
   ]
  },
  {
   "cell_type": "code",
   "execution_count": 3,
   "metadata": {},
   "outputs": [
    {
     "output_type": "stream",
     "name": "stdout",
     "text": [
      "1\n2\n3\n4\n5\n6\n7\n8\n9\n10\ndone.\n"
     ]
    }
   ],
   "source": [
    "my_iter = iter(my_list)\n",
    "while True:\n",
    "    try:\n",
    "        print(next(my_iter))\n",
    "    except StopIteration:\n",
    "        print('done.')\n",
    "        break"
   ]
  },
  {
   "cell_type": "code",
   "execution_count": 4,
   "metadata": {},
   "outputs": [
    {
     "output_type": "stream",
     "name": "stdout",
     "text": [
      "Halo\nTest\nIterator\n"
     ]
    }
   ],
   "source": [
    "my_list = ['Halo', 'Test', 'Iterator']\n",
    "for item in my_list:\n",
    "    print(item)\n",
    "    "
   ]
  },
  {
   "cell_type": "code",
   "execution_count": 5,
   "metadata": {},
   "outputs": [
    {
     "output_type": "stream",
     "name": "stdout",
     "text": [
      "Halo\nTest\nIterator\nselesai\n"
     ]
    }
   ],
   "source": [
    "my_iter = iter(my_list)\n",
    "while True:\n",
    "    try:\n",
    "        print(next(my_iter))\n",
    "    except StopIteration:\n",
    "        print('selesai')\n",
    "        break"
   ]
  },
  {
   "cell_type": "code",
   "execution_count": 6,
   "metadata": {},
   "outputs": [
    {
     "output_type": "stream",
     "name": "stdout",
     "text": [
      "Halo\nTest\nIterator\n"
     ]
    }
   ],
   "source": [
    "my_iter = iter(my_list)\n",
    "for item in my_iter:\n",
    "    print(item)"
   ]
  },
  {
   "cell_type": "code",
   "execution_count": 7,
   "metadata": {},
   "outputs": [
    {
     "output_type": "stream",
     "name": "stdout",
     "text": [
      "Halo\nTest\nIterator\nselesai, cuman tiga data saja\n"
     ]
    }
   ],
   "source": [
    "my_iter = iter(my_list)\n",
    "try:\n",
    "    print(next(my_iter))\n",
    "    print(next(my_iter))\n",
    "    print(next(my_iter))\n",
    "    print(next(my_iter))\n",
    "    print(next(my_iter))\n",
    "    print(next(my_iter))\n",
    "except:\n",
    "    print('selesai, cuman tiga data saja')"
   ]
  },
  {
   "cell_type": "code",
   "execution_count": 9,
   "metadata": {},
   "outputs": [
    {
     "output_type": "stream",
     "name": "stdout",
     "text": [
      "percobaan-1 [for looping]:\n1\n2\n3\n4\n5\n6\n7\n8\n9\n10\npercobaan-2 [next() one by one]:\n1\n2\n3\n4\n5\n"
     ]
    }
   ],
   "source": [
    "class Angka:\n",
    "    \n",
    "    def __init__(self, max=0):\n",
    "        self.n = 0\n",
    "        self.max = max\n",
    "    \n",
    "    def __iter__(self):\n",
    "        return self\n",
    "\n",
    "    def __next__(self):\n",
    "        if self.n < self.max:\n",
    "            self.n += 1\n",
    "            return self.n\n",
    "        else:\n",
    "            raise StopIteration\n",
    "\n",
    "print('percobaan-1 [for looping]:')\n",
    "numbers = Angka(10)\n",
    "for i in numbers:\n",
    "    print(i)\n",
    "\n",
    "print('percobaan-2 [next() one by one]:')\n",
    "numbers = Angka(5)\n",
    "itr = iter(numbers)\n",
    "print(next(itr))\n",
    "print(next(itr))\n",
    "print(next(itr))\n",
    "print(next(itr))\n",
    "print(next(itr))"
   ]
  },
  {
   "cell_type": "code",
   "execution_count": 10,
   "metadata": {},
   "outputs": [
    {
     "output_type": "stream",
     "name": "stdout",
     "text": [
      "1\n2\n3\n4\n5\n6\n7\n8\n9\n10\n11\n12\n13\n14\n15\n16\n17\n18\n19\n20\n"
     ]
    }
   ],
   "source": [
    "# Infinite Iterator \n",
    "class AngkaInf:\n",
    "\n",
    "    def __init__(self):\n",
    "        self.n = 0\n",
    "\n",
    "    def __iter__(self):\n",
    "        return self\n",
    "\n",
    "    def __next__(self):\n",
    "        self.n += 1\n",
    "        return self.n\n",
    "\n",
    "count = 0\n",
    "for item in AngkaInf():\n",
    "    print(item)\n",
    "    count += 1\n",
    "    if count == 20: \n",
    "        break"
   ]
  },
  {
   "source": [
    "### Generator"
   ],
   "cell_type": "markdown",
   "metadata": {}
  },
  {
   "cell_type": "code",
   "execution_count": 12,
   "metadata": {},
   "outputs": [
    {
     "output_type": "stream",
     "name": "stdout",
     "text": [
      "first\n1\nsecond\n2\nthird\n3\n"
     ]
    }
   ],
   "source": [
    "def my_generator():\n",
    "    x = 1 \n",
    "    print('first')\n",
    "    yield x\n",
    "    x = 2 \n",
    "    print('second')\n",
    "    yield x\n",
    "    x = 3 \n",
    "    print('third')\n",
    "    yield x\n",
    "\n",
    "itr = my_generator()\n",
    "print(next(itr))\n",
    "print(next(itr))\n",
    "print(next(itr))\n"
   ]
  },
  {
   "cell_type": "code",
   "execution_count": 19,
   "metadata": {},
   "outputs": [
    {
     "output_type": "stream",
     "name": "stdout",
     "text": [
      "dilooping:\np y t h o n \nread one by one:\np\ny\nt\nh\no\nn\n"
     ]
    }
   ],
   "source": [
    "# yield akan pause fungsinya, simpan state readingnya sudah sampai mana,\n",
    "# dan next calling akan dimulai dari state pemanggilan terakhir \n",
    "# dibaca one by one \n",
    "# sedangkan return akan langsung terminate fungsi\n",
    "\n",
    "# Here is how a generator function differs from a normal function. (source: https://www.programiz.com/python-programming/generator)\n",
    "# 1. Generator function contains one or more yield statements.\n",
    "# 2. When called, it returns an object (iterator) but does not start execution immediately.\n",
    "# 3. Methods like __iter__() and __next__() are implemented automatically. so we can iterate through the items using next().\n",
    "# 4. Once the function yields, the function is paused and the control is transferred to the caller.\n",
    "# 5. Local variables and their states are remembered between successive calls.\n",
    "# 6. Finally, when the function terminates, StopIteration is raised automatically on further calls.\n",
    "\n",
    "def character_from_word(word):\n",
    "    length = len(word)\n",
    "    for i in range(length):\n",
    "        yield word[i]\n",
    "\n",
    "print('dilooping:')\n",
    "for ch in character_from_word('python'):\n",
    "    print(ch, end=' ')\n",
    "print()\n",
    "\n",
    "print('read one by one:')\n",
    "itr = character_from_word('python')\n",
    "print(next(itr))\n",
    "print(next(itr))\n",
    "print(next(itr))\n",
    "print(next(itr))\n",
    "print(next(itr))\n",
    "print(next(itr))\n"
   ]
  },
  {
   "source": [
    "### Closure"
   ],
   "cell_type": "markdown",
   "metadata": {}
  },
  {
   "cell_type": "code",
   "execution_count": 33,
   "metadata": {},
   "outputs": [
    {
     "output_type": "stream",
     "name": "stdout",
     "text": [
      "percobaan-1:\n<function func_1.<locals>.func_2 at 0x000001B0EB0A8280>\n<class 'function'>\n(<cell at 0x000001B0EBFBD430: int object at 0x00007FFC762806E0>,)\n15\npercobaan-2:\n3 x 1 = 3\n3 x 2 = 6\n3 x 3 = 9\n3 x 4 = 12\n3 x 5 = 15\n3 x 6 = 18\n3 x 7 = 21\n3 x 8 = 24\n3 x 9 = 27\n3 x 10 = 30\n"
     ]
    }
   ],
   "source": [
    "# we have a closure in Python when a nested function references a value in its enclosing scope. \n",
    "# (https://www.programiz.com/python-programming/closure)\n",
    "# The criteria that must be met to create closure in Python are summarized in the following points.\n",
    "# We must have a nested function (function inside a function).\n",
    "# The nested function must refer to a value defined in the enclosing function.\n",
    "# The enclosing function must return the nested function.\n",
    "\n",
    "# nested function\n",
    "def func_1(x):\n",
    "    def func_2(y):\n",
    "        return x * y\n",
    "    return func_2\n",
    "\n",
    "# partial execution\n",
    "print('percobaan-1:')\n",
    "times3 = func_1(3)\n",
    "print(times3)\n",
    "print(type(times3))\n",
    "print(times3.__closure__)\n",
    "print(times3(5))\n",
    "\n",
    "print('percobaan-2:')\n",
    "for i in range(1, 11):\n",
    "    print(f'3 x {i} = {times3(i)}')\n",
    "\n",
    "\n"
   ]
  },
  {
   "cell_type": "code",
   "execution_count": null,
   "metadata": {},
   "outputs": [],
   "source": []
  }
 ],
 "metadata": {
  "kernelspec": {
   "display_name": "Python 3",
   "language": "python",
   "name": "python3"
  },
  "language_info": {
   "codemirror_mode": {
    "name": "ipython",
    "version": 3
   },
   "file_extension": ".py",
   "mimetype": "text/x-python",
   "name": "python",
   "nbconvert_exporter": "python",
   "pygments_lexer": "ipython3",
   "version": "3.8.6-final"
  }
 },
 "nbformat": 4,
 "nbformat_minor": 4
}