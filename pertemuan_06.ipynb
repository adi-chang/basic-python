{
 "metadata": {
  "language_info": {
   "codemirror_mode": {
    "name": "ipython",
    "version": 3
   },
   "file_extension": ".py",
   "mimetype": "text/x-python",
   "name": "python",
   "nbconvert_exporter": "python",
   "pygments_lexer": "ipython3",
   "version": "3.8.6-final"
  },
  "orig_nbformat": 2,
  "kernelspec": {
   "name": "python3",
   "display_name": "Python 3"
  }
 },
 "nbformat": 4,
 "nbformat_minor": 2,
 "cells": [
  {
   "source": [
    "## Class pada Python"
   ],
   "cell_type": "markdown",
   "metadata": {}
  },
  {
   "cell_type": "code",
   "execution_count": 12,
   "metadata": {},
   "outputs": [
    {
     "output_type": "stream",
     "name": "stdout",
     "text": [
      "Nama: Neymar, Nomor Punggug: 10\n"
     ]
    }
   ],
   "source": [
    "# class Pemain:\n",
    "#     pass\n",
    "\n",
    "# obj = Pemain()\n",
    "# obj.nama = 'Neymar'\n",
    "# obj.nomor_punggung = '10'\n",
    "# print(f'Nama: {obj.nama}, Nomor Punggug: {obj.nomor_punggung}')"
   ]
  },
  {
   "cell_type": "code",
   "execution_count": 13,
   "metadata": {},
   "outputs": [
    {
     "output_type": "stream",
     "name": "stdout",
     "text": [
      "Nama: Neymar, Nomor Punggug: 10\n"
     ]
    }
   ],
   "source": [
    "# class Pemain:\n",
    "\n",
    "#     def __init__(self):\n",
    "#         self.nama = 'Neymar'\n",
    "#         self.nomor_punggung = '10'\n",
    "\n",
    "# obj = Pemain()\n",
    "# print(f'Nama: {obj.nama}, Nomor Punggug: {obj.nomor_punggung}')"
   ]
  },
  {
   "cell_type": "code",
   "execution_count": 5,
   "metadata": {},
   "outputs": [
    {
     "output_type": "stream",
     "name": "stdout",
     "text": [
      "Nama: Neymar, Umur: 40, Power: 90, Nomor Punggung: 10\nNamanya adalah Neymar\nUmurnya adalah 40\nPowernya adalah 90\nNomor Punggungnya adalah 10\nKewarganegaraannya adalah ga tau\nNama: Ronaldo, Umur: 33, Power: 99, Nomor Punggung: 7\n"
     ]
    }
   ],
   "source": [
    "class Pemain:\n",
    "\n",
    "    def __init__(self, nama, umur, power, nomor_punggung):\n",
    "        self.nama = nama\n",
    "        self.umur = umur\n",
    "        self.power = power\n",
    "        self.nomor_punggung = nomor_punggung\n",
    "\n",
    "    def get_nama(self):\n",
    "        return f'Namanya adalah {self.nama}'\n",
    "\n",
    "    def get_power(self):\n",
    "        return f'Powernya adalah {self.power}'\n",
    "\n",
    "    def get_umur(self):\n",
    "        return f'Umurnya adalah {self.umur}'\n",
    "\n",
    "    def get_nomor_punggung(self):\n",
    "        return f'Nomor Punggungnya adalah {self.nomor_punggung}'\n",
    "\n",
    "    def get_citizen(self, citizen):\n",
    "        return f'Kewarganegaraannya adalah {citizen}'\n",
    "\n",
    "    def __repr__(self):\n",
    "        return f'Nama: {self.nama}, Umur: {self.umur}, Power: {self.power}, Nomor Punggung: {self.nomor_punggung}'\n",
    "\n",
    "    # def __str__(self):\n",
    "    #     return f'Nama: {self.nama}\\nUmur: {self.umur}\\nPower: {self.power}\\nNomor Punggung: {self.nomor_punggung}\n",
    "\n",
    "\n",
    "p1 = Pemain('Neymar', '40', '90', '10')\n",
    "print(p1)\n",
    "print(p1.get_nama())\n",
    "print(p1.get_umur())\n",
    "print(p1.get_power())\n",
    "print(p1.get_nomor_punggung())\n",
    "print(p1.get_citizen('ga tau'))\n",
    "p2 = Pemain('Ronaldo', '33', '99', '7')\n",
    "print(p2)\n"
   ]
  },
  {
   "cell_type": "code",
   "execution_count": null,
   "metadata": {},
   "outputs": [],
   "source": []
  },
  {
   "source": [
    "## Inheritance"
   ],
   "cell_type": "markdown",
   "metadata": {}
  },
  {
   "cell_type": "code",
   "execution_count": 12,
   "metadata": {},
   "outputs": [
    {
     "output_type": "stream",
     "name": "stdout",
     "text": [
      "Nama: Bambang, Umur: 45, Power: 85, Nomor Punggung: 10, Citizen: Indonesia, Province: Medan, Club: PSMS\nNamanya adalah Bambang\nUmurnya adalah 45\nPowernya adalah 85\nNomor Punggungnya adalah 10\nCitizenny adalah Indonesia\nProvincenya adalah Medan\nClubnya adalah PSMS\n"
     ]
    }
   ],
   "source": [
    "class IndoPlayer(Pemain):\n",
    "    def __init__(self, nama, umur, power, nomor_punggung, citizen, province, club):\n",
    "        super().__init__(nama, umur, power, nomor_punggung)\n",
    "        self.citizen = citizen\n",
    "        self.province = province\n",
    "        self.club = club\n",
    "\n",
    "    def get_citizen(self):\n",
    "        return f'Citizenny adalah {self.citizen}'\n",
    "\n",
    "    def get_province(self):\n",
    "        return f'Provincenya adalah {self.province}'\n",
    "\n",
    "    def get__club(self):\n",
    "        return f'Clubnya adalah {self.club}'\n",
    "\n",
    "    def __str__(self):\n",
    "        return f'Nama: {self.nama}, Umur: {self.umur}, Power: {self.power}, Nomor Punggung: {self.nomor_punggung}, Citizen: {self.citizen}, Province: {self.province}, Club: {self.club}'\n",
    "\n",
    "\n",
    "ip1 = IndoPlayer('Bambang', '45', '85', '10', 'Indonesia', 'Medan', 'PSMS')\n",
    "print(ip1)\n",
    "print(ip1.get_nama())\n",
    "print(ip1.get_umur())\n",
    "print(ip1.get_power())\n",
    "print(ip1.get_nomor_punggung())\n",
    "print(ip1.get_citizen())\n",
    "print(ip1.get_province())\n",
    "print(ip1.get__club())"
   ]
  },
  {
   "cell_type": "code",
   "execution_count": 24,
   "metadata": {},
   "outputs": [
    {
     "output_type": "stream",
     "name": "stdout",
     "text": [
      "12\n20\n5.0\n8\nbilangan 10 dan 2, jika ditambahkan: 12, jika dikalikan: 20, jika dibagikan: 5.0, jika dikurangkan: 8\n"
     ]
    }
   ],
   "source": [
    "class OperasiBilangan:\n",
    "    \n",
    "    def __init__(self, pertama, kedua):\n",
    "        self.pertama = pertama\n",
    "        self.kedua = kedua\n",
    "\n",
    "    def get_tambah(self):\n",
    "        return self.pertama + self.kedua\n",
    "\n",
    "    def get_kali(self):\n",
    "        return self.pertama * self.kedua\n",
    "\n",
    "    def get_bagi(self):\n",
    "        return self.pertama / self.kedua\n",
    "\n",
    "    def get_kurang(self):\n",
    "        return self.pertama - self.kedua\n",
    "\n",
    "\n",
    "# test\n",
    "op = OperasiBilangan(10, 2)\n",
    "print(op.get_tambah())\n",
    "print(op.get_kali())\n",
    "print(op.get_bagi())\n",
    "print(op.get_kurang())\n",
    "print(f'bilangan {op.pertama} dan {op.kedua}, jika ditambahkan: {op.get_tambah()}, jika dikalikan: {op.get_kali()}, jika dibagikan: {op.get_bagi()}, jika dikurangkan: {op.get_kurang()}')"
   ]
  },
  {
   "cell_type": "code",
   "execution_count": null,
   "metadata": {},
   "outputs": [],
   "source": []
  }
 ]
}